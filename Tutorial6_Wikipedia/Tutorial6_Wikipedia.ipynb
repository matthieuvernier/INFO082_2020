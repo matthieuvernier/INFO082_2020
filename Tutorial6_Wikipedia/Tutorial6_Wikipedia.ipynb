{
 "cells": [
  {
   "cell_type": "markdown",
   "metadata": {},
   "source": [
    "# Tutorial 6 - Recopilar datos desde Wikipedia"
   ]
  },
  {
   "cell_type": "markdown",
   "metadata": {},
   "source": [
    "## 1. Wikipedia"
   ]
  },
  {
   "cell_type": "markdown",
   "metadata": {},
   "source": [
    "https://github.com/goldsmith/Wikipedia\n",
    "\n",
    "Una librería Python que encapsula [MediaWiki API](https://www.mediawiki.org/wiki/API:Main_page) para facilitar el acceso a los datos de Wikipedia: artículo, resumen, enlaces, imágenes, titulo, etc."
   ]
  },
  {
   "cell_type": "code",
   "execution_count": null,
   "metadata": {},
   "outputs": [],
   "source": [
    "#!pip install wikipedia"
   ]
  },
  {
   "cell_type": "code",
   "execution_count": null,
   "metadata": {},
   "outputs": [],
   "source": [
    "import wikipedia"
   ]
  },
  {
   "cell_type": "markdown",
   "metadata": {},
   "source": [
    "- Hacer una consulta (devuelve las páginas wikipedia que corresponden a la consulta):"
   ]
  },
  {
   "cell_type": "code",
   "execution_count": null,
   "metadata": {},
   "outputs": [],
   "source": [
    "wikipedia.search(\"Trump\")"
   ]
  },
  {
   "cell_type": "markdown",
   "metadata": {},
   "source": [
    "- Ver el contenido de una página:"
   ]
  },
  {
   "cell_type": "code",
   "execution_count": null,
   "metadata": {},
   "outputs": [],
   "source": [
    "page = wikipedia.page(\"Donald Trump\")"
   ]
  },
  {
   "cell_type": "code",
   "execution_count": null,
   "metadata": {},
   "outputs": [],
   "source": [
    "page.title"
   ]
  },
  {
   "cell_type": "code",
   "execution_count": null,
   "metadata": {},
   "outputs": [],
   "source": [
    "page.url"
   ]
  },
  {
   "cell_type": "code",
   "execution_count": null,
   "metadata": {},
   "outputs": [],
   "source": [
    "page.content"
   ]
  },
  {
   "cell_type": "code",
   "execution_count": null,
   "metadata": {},
   "outputs": [],
   "source": [
    "page.links"
   ]
  },
  {
   "cell_type": "code",
   "execution_count": null,
   "metadata": {},
   "outputs": [],
   "source": [
    "wikipedia.set_lang(\"es\")"
   ]
  },
  {
   "cell_type": "code",
   "execution_count": null,
   "metadata": {},
   "outputs": [],
   "source": [
    "page = wikipedia.page(\"Donald Trump\")\n",
    "page.content"
   ]
  },
  {
   "cell_type": "code",
   "execution_count": null,
   "metadata": {},
   "outputs": [],
   "source": [
    "wikipedia.summary(\"Donald Trump\", sentences=1)"
   ]
  },
  {
   "cell_type": "code",
   "execution_count": null,
   "metadata": {},
   "outputs": [],
   "source": [
    "page.images"
   ]
  },
  {
   "cell_type": "code",
   "execution_count": null,
   "metadata": {},
   "outputs": [],
   "source": [
    "import requests\n",
    "import IPython.display as Disp\n",
    "url = page.images[6]\n",
    "Disp.Image(requests.get(url).content, width = 400) #height = 50"
   ]
  },
  {
   "cell_type": "markdown",
   "metadata": {},
   "source": [
    "**Alternativas a la libreria 'wikipedia':**\n",
    "    - https://pypi.org/project/Wikipedia-API/\n",
    "    - https://en.wikipedia.org/wiki/Help:Creating_a_bot#Python"
   ]
  },
  {
   "cell_type": "markdown",
   "metadata": {},
   "source": [
    "## 2. Wikipedia Page views"
   ]
  },
  {
   "cell_type": "markdown",
   "metadata": {},
   "source": [
    "https://github.com/Commonists/pageview-api\n",
    "\n",
    "Estadísticas sobre el número de visitas de los artículos wikipedia."
   ]
  },
  {
   "cell_type": "code",
   "execution_count": null,
   "metadata": {},
   "outputs": [],
   "source": [
    "#!pip install git+https://github.com/Commonists/pageview-api.git"
   ]
  },
  {
   "cell_type": "code",
   "execution_count": null,
   "metadata": {},
   "outputs": [],
   "source": [
    "import pageviewapi"
   ]
  },
  {
   "cell_type": "markdown",
   "metadata": {},
   "source": [
    "- ¿Cómo ha evolucionado el número de vistas diarias de la página de Donald Trump entre dos fechas?"
   ]
  },
  {
   "cell_type": "code",
   "execution_count": null,
   "metadata": {},
   "outputs": [],
   "source": [
    "result1=pageviewapi.per_article('es.wikipedia', 'Donald Trump', '20201101', '20201110',\n",
    "                        access='all-access', agent='all-agents', granularity='daily')\n",
    "result1"
   ]
  },
  {
   "cell_type": "code",
   "execution_count": null,
   "metadata": {},
   "outputs": [],
   "source": [
    "import pandas as pd\n",
    "\n",
    "df1 = pd.DataFrame()\n",
    "\n",
    "for item in result1.items():\n",
    "    for article in item[1]:\n",
    "        timestamp=article['timestamp'][:8] #first 8 digits\n",
    "        a_row = pd.Series([timestamp, article['views']])\n",
    "        row_df = pd.DataFrame([a_row])\n",
    "        df1 = pd.concat([df1, row_df], ignore_index=True)\n",
    "        \n",
    "df1.columns =['timestamp', 'views'] \n",
    "df1"
   ]
  },
  {
   "cell_type": "code",
   "execution_count": null,
   "metadata": {},
   "outputs": [],
   "source": [
    "from matplotlib import pyplot\n",
    "\n",
    "df1.plot(x='timestamp')\n",
    "pyplot.xticks(rotation=80)\n",
    "pyplot.show()"
   ]
  },
  {
   "cell_type": "markdown",
   "metadata": {},
   "source": [
    "- ¿Cómo ha evolucionado el número de vistas mensuales de la página de Donald Trump entre dos fechas?"
   ]
  },
  {
   "cell_type": "code",
   "execution_count": null,
   "metadata": {},
   "outputs": [],
   "source": [
    "result2=pageviewapi.per_article('es.wikipedia', 'Donald Trump', '2018101', '20201030',\n",
    "                        access='all-access', agent='all-agents', granularity='monthly')\n",
    "result3=pageviewapi.per_article('es.wikipedia', 'Joe Biden', '2018101', '20201030',\n",
    "                        access='all-access', agent='all-agents', granularity='monthly')"
   ]
  },
  {
   "cell_type": "code",
   "execution_count": null,
   "metadata": {},
   "outputs": [],
   "source": [
    "result2"
   ]
  },
  {
   "cell_type": "code",
   "execution_count": null,
   "metadata": {},
   "outputs": [],
   "source": [
    "import pandas as pd\n",
    "\n",
    "df2 = pd.DataFrame()\n",
    "\n",
    "for item in result2.items():\n",
    "    for article in item[1]:\n",
    "        timestamp=article['timestamp'][:8] #first 8 digits\n",
    "        a_row = pd.Series([timestamp, article['views']])\n",
    "        row_df = pd.DataFrame([a_row])\n",
    "        df2 = pd.concat([df2, row_df], ignore_index=True)\n",
    "        \n",
    "df2.columns =['timestamp', 'views'] \n",
    "\n",
    "df3 = pd.DataFrame()\n",
    "\n",
    "for item in result3.items():\n",
    "    for article in item[1]:\n",
    "        timestamp=article['timestamp'][:8] #first 8 digits\n",
    "        a_row = pd.Series([timestamp, article['views']])\n",
    "        row_df = pd.DataFrame([a_row])\n",
    "        df3 = pd.concat([df3, row_df], ignore_index=True)\n",
    "        \n",
    "df3.columns =['timestamp', 'views'] "
   ]
  },
  {
   "cell_type": "code",
   "execution_count": null,
   "metadata": {},
   "outputs": [],
   "source": [
    "import matplotlib.pyplot as plt\n",
    "\n",
    "fig, ax = plt.subplots()\n",
    "ax.locator_params(nbins=10, axis='x')\n",
    "\n",
    "for frame in [df2, df3]:\n",
    "    plt.plot(frame['timestamp'], frame['views'])\n",
    "\n",
    "plt.legend(['Trump','Biden']) \n",
    "pyplot.xticks(rotation=80)\n",
    "\n",
    "max_xticks = 15\n",
    "xloc = plt.MaxNLocator(max_xticks)\n",
    "ax.xaxis.set_major_locator(xloc)\n",
    "\n",
    "pyplot.show()"
   ]
  },
  {
   "cell_type": "markdown",
   "metadata": {},
   "source": [
    "- ¿Cuáles fueron las páginas más vistas el \"4 noviembre 2020\" en el wikipedia inglés?"
   ]
  },
  {
   "cell_type": "code",
   "execution_count": null,
   "metadata": {},
   "outputs": [],
   "source": [
    "import pageviewapi\n",
    "result=pageviewapi.top('en.wikipedia', 2020, 11, \"04\", access='all-access')\n",
    "result"
   ]
  },
  {
   "cell_type": "code",
   "execution_count": null,
   "metadata": {},
   "outputs": [],
   "source": [
    "for items in result.items():\n",
    "    print(items[1])"
   ]
  },
  {
   "cell_type": "code",
   "execution_count": null,
   "metadata": {},
   "outputs": [],
   "source": [
    "for article in items[1][0]['articles']:\n",
    "    print(article)"
   ]
  },
  {
   "cell_type": "code",
   "execution_count": null,
   "metadata": {},
   "outputs": [],
   "source": [
    "- ¿Qué busca la gente en el wikipedia español hoy?"
   ]
  },
  {
   "cell_type": "code",
   "execution_count": null,
   "metadata": {},
   "outputs": [],
   "source": [
    "- ¿Qué busca la gente en el wikipedia español hoy"
   ]
  },
  {
   "cell_type": "code",
   "execution_count": null,
   "metadata": {},
   "outputs": [],
   "source": [
    "import pageviewapi\n",
    "result=pageviewapi.top('es.wikipedia', 2020, 11, \"10\", access='all-access')\n",
    "result"
   ]
  },
  {
   "cell_type": "code",
   "execution_count": null,
   "metadata": {},
   "outputs": [],
   "source": [
    "for items in result.items():\n",
    "    for article in items[1][0]['articles']:\n",
    "        print(article)"
   ]
  },
  {
   "cell_type": "code",
   "execution_count": null,
   "metadata": {},
   "outputs": [],
   "source": [
    "df_top = pd.DataFrame()\n",
    "\n",
    "for items in result.items():\n",
    "    for article in items[1][0]['articles']:\n",
    "        a_row = pd.Series([article['article'], article['views']])\n",
    "        row_df = pd.DataFrame([a_row])\n",
    "        df_top = pd.concat([df_top, row_df], ignore_index=True)\n",
    "\n",
    "df_top.columns =['article', 'views'] \n",
    "df_top[2:12]"
   ]
  },
  {
   "cell_type": "code",
   "execution_count": null,
   "metadata": {},
   "outputs": [],
   "source": [
    "df_top[2:22].plot.bar(x='article', y='views',rot=90)"
   ]
  },
  {
   "cell_type": "markdown",
   "metadata": {},
   "source": [
    "## 3. Para experimentar...\n",
    "\n",
    "- Supongamos que Wikipedia aproxima la **notoriedad pública** de ciertas personas: *¿Qué tan conocida es una persona por los ciudadanos?*)\n",
    "\n",
    "- Supongamos que los medios de prensa, cuando citan a ciertas personas, les dan una **visibilidad mediática**: *¿Qué tan visible es una persona en los medios de prensa?*\n",
    "\n",
    "Escribir un script que permite comparar la **notoriedad pública** y la **visibilidad mediática** de algunas personas."
   ]
  },
  {
   "cell_type": "code",
   "execution_count": null,
   "metadata": {},
   "outputs": [],
   "source": [
    "import pandas as pd\n",
    "\n",
    "DATASET_CSV=\"../datasets/CNNCHILE_RAW.csv\"\n",
    "\n",
    "df_CNN = pd.read_csv(DATASET_CSV,sep=',',error_bad_lines=False)\n",
    "df_CNN = df_CNN.drop(['Unnamed: 0'], axis = 1) # Para suprimir la columna ID\n",
    "df_CNN['date'] = pd.to_datetime(df_CNN['date']) # Para convertir la columna date en formato datetime\n",
    "\n",
    "df_CNN"
   ]
  },
  {
   "cell_type": "code",
   "execution_count": null,
   "metadata": {},
   "outputs": [],
   "source": [
    "from pandasql import sqldf\n",
    "\n",
    "q=\"\"\"SELECT * FROM df_CNN WHERE date LIKE \"2020-%\";\"\"\"\n",
    "CNN_2020=sqldf(q)\n",
    "CNN_2020"
   ]
  },
  {
   "cell_type": "code",
   "execution_count": null,
   "metadata": {},
   "outputs": [],
   "source": [
    "import spacy\n",
    "\n",
    "nlp = spacy.load('es_core_news_md')"
   ]
  },
  {
   "cell_type": "code",
   "execution_count": null,
   "metadata": {},
   "outputs": [],
   "source": [
    "entities={}\n",
    "\n",
    "for index,row in CNN_2020.iterrows():\n",
    "    if(index%100 == 0):\n",
    "        print(index)\n",
    "    # Text of the news\n",
    "    text=row[4]\n",
    "    \n",
    "    # We apply NLP processing here, in particular Tokenization and Entity Name Recognition\n",
    "    try:\n",
    "        doc = nlp(text)\n",
    "    except:\n",
    "        continue\n",
    "    \n",
    "     # We analyze the entities from the document, and we use only the Person type(PER)\n",
    "    for ent in doc.ents:\n",
    "        \n",
    "        # We check if entity is a Person type using the SpaCy model\n",
    "        if(ent.label_==\"PER\"):\n",
    "            #We tokenize the entity\n",
    "            tokenized_entity=(ent.text).split(\" \") \n",
    "            \n",
    "            # We preserve only the entities that has between 2 abd 4 tokens (Usual name annotation in Chile)\n",
    "            if ((len(tokenized_entity)>1) and len(tokenized_entity)<=4):\n",
    "                \n",
    "                entity_full_name = ent.text\n",
    "                \n",
    "                if entity_full_name in entities:\n",
    "                    entities[entity_full_name] += 1\n",
    "\n",
    "                else:\n",
    "                    entities[entity_full_name] = 1"
   ]
  },
  {
   "cell_type": "code",
   "execution_count": null,
   "metadata": {},
   "outputs": [],
   "source": [
    "sortedVisibility = sorted(entities.items(), key=lambda x: x[1], reverse=True)\n",
    "sortedVisibility"
   ]
  },
  {
   "cell_type": "code",
   "execution_count": null,
   "metadata": {},
   "outputs": [],
   "source": [
    "sortedVisibility[0]"
   ]
  },
  {
   "cell_type": "code",
   "execution_count": null,
   "metadata": {},
   "outputs": [],
   "source": [
    "len(sortedVisibility)"
   ]
  },
  {
   "cell_type": "code",
   "execution_count": null,
   "metadata": {},
   "outputs": [],
   "source": [
    "sortedVisibility[0:50]"
   ]
  },
  {
   "cell_type": "code",
   "execution_count": null,
   "metadata": {},
   "outputs": [],
   "source": [
    "popularity={}\n",
    "\n",
    "for entity in sortedVisibility[:50]:\n",
    "    name=entity[0]\n",
    "    \n",
    "    try:\n",
    "        visits_per_month=pageviewapi.per_article('es.wikipedia', name, '20200101', '20201030', \n",
    "                                             access='all-access', agent='all-agents', granularity='monthly')\n",
    "\n",
    "        ## Sum\n",
    "        sum=0\n",
    "        for item in visits_per_month.items():\n",
    "            for article in item[1]:\n",
    "                view=article['views']\n",
    "                sum=sum+view\n",
    "    \n",
    "        ## Save\n",
    "        popularity[name] = sum\n",
    "        \n",
    "        print(\"Hay datos para: \"+name+\" - \"+str(sum))\n",
    "        \n",
    "    except:\n",
    "        popularity[name] = 1\n",
    "        print(\"No hay datos para: \"+name)\n",
    "    \n",
    "    "
   ]
  },
  {
   "cell_type": "code",
   "execution_count": null,
   "metadata": {},
   "outputs": [],
   "source": [
    "print(len(popularity))\n",
    "popularity #qué paginas miran los ciudadanos hispanohablantes en wikipedia"
   ]
  },
  {
   "cell_type": "code",
   "execution_count": null,
   "metadata": {},
   "outputs": [],
   "source": [
    "sortedPopularity = sorted(popularity.items(), key=lambda x: x[0], reverse=False)\n",
    "sortedPopularity"
   ]
  },
  {
   "cell_type": "code",
   "execution_count": null,
   "metadata": {},
   "outputs": [],
   "source": [
    "sortedVisibility = sorted(dict(sortedVisibility[0:50]).items(), key=lambda x: x[0], reverse=False)\n",
    "print(len(sortedVisibility))\n",
    "sortedVisibility"
   ]
  },
  {
   "cell_type": "code",
   "execution_count": null,
   "metadata": {},
   "outputs": [],
   "source": [
    "x = []\n",
    "y = []\n",
    "label = []\n",
    "\n",
    "for person in sortedVisibility:\n",
    "    name=person[0]\n",
    "    if (name not in ['Donald Trump', 'Sebastián Piñera', 'Lionel Messi', 'Colo Colo', 'Bad Bunny', 'Barack Obama']):\n",
    "        visibility=person[1]\n",
    "        x.append(visibility)\n",
    "        label.append(name)\n",
    "    \n",
    "for person in sortedPopularity:\n",
    "    name=person[0]\n",
    "    if (name not in ['Donald Trump', 'Sebastián Piñera', 'Lionel Messi', 'Colo Colo', 'Bad Bunny', 'Barack Obama']):\n",
    "    #print(name)\n",
    "        popularity=person[1]\n",
    "        y.append(popularity)"
   ]
  },
  {
   "cell_type": "code",
   "execution_count": null,
   "metadata": {},
   "outputs": [],
   "source": [
    "from math import log\n",
    "\n",
    "log_x=[log(value) for value in x]\n",
    "log_y=[log(value) for value in y]"
   ]
  },
  {
   "cell_type": "code",
   "execution_count": null,
   "metadata": {},
   "outputs": [],
   "source": [
    "import numpy as np\n",
    "import matplotlib.pyplot as plt\n",
    "from matplotlib.pyplot import figure\n",
    "\n",
    "plt.rcParams[\"figure.figsize\"]=20,20\n",
    "\n",
    "fig, ax = plt.subplots()\n",
    "\n",
    "ax.scatter(x,y)\n",
    "\n",
    "plt.xlabel(\"Media Visilibility\")\n",
    "plt.ylabel(\"Wikipedia Popularity\")\n",
    "\n",
    "for i, txt in enumerate(label):\n",
    "    ax.annotate(txt,(x[i], y[i]))#,fontsize=60) \n"
   ]
  },
  {
   "cell_type": "markdown",
   "metadata": {},
   "source": [
    "## 4. Para ir un poco más lejo...\n",
    "\n",
    "A partir del resumen de las páginas wikipedia, construir un script qu"
   ]
  },
  {
   "cell_type": "code",
   "execution_count": null,
   "metadata": {},
   "outputs": [],
   "source": []
  }
 ],
 "metadata": {
  "kernelspec": {
   "display_name": "Python 3",
   "language": "python",
   "name": "python3"
  },
  "language_info": {
   "codemirror_mode": {
    "name": "ipython",
    "version": 3
   },
   "file_extension": ".py",
   "mimetype": "text/x-python",
   "name": "python",
   "nbconvert_exporter": "python",
   "pygments_lexer": "ipython3",
   "version": "3.7.4"
  }
 },
 "nbformat": 4,
 "nbformat_minor": 2
}
